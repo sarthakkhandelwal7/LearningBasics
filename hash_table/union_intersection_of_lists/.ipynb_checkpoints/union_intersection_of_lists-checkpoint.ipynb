{
 "cells": [
  {
   "cell_type": "code",
   "execution_count": 22,
   "metadata": {},
   "outputs": [],
   "source": [
    "from linked_list import LinkedList\n",
    "from hash_table import HashWithChaining\n",
    "class ListUnionIntersection:\n",
    "    def __init__(self):\n",
    "        self.union = []\n",
    "        self.intersection = []\n",
    "        self.hashing = 0    \n",
    "    def get_union_intersection(self):\n",
    "        #ternary operator\n",
    "        bigger_list = linkedlist1.find_length() < linkedlist2.find_length() and linkedlist2 or linkedlist1\n",
    "        smaller_list = linkedlist1.find_length() < linkedlist2.find_length() and linkedlist1 or linkedlist2\n",
    "        size = bigger_list.find_length()\n",
    "        self.hashing = HashWithChaining(size)\n",
    "        root = bigger_list.head_node \n",
    "        \n",
    "        while(root != 'Null'):\n",
    "            self.hashing.insert(root.data)\n",
    "            root = root.next\n",
    "        \n",
    "        root = smaller_list.head_node\n",
    "        print(self.hashing)\n",
    "        \n",
    "        while(root != 'Null'):\n",
    "            index = root.data % size\n",
    "            sub_root = self.hashing.hash_table[index].head_node\n",
    "            checker = 0\n",
    "            while(sub_root != 'Null'):\n",
    "                \n",
    "                if sub_root.data == root.data:\n",
    "                    self.intersection.append(root.data)\n",
    "                else:\n",
    "                    self.union.append(root.data)\n",
    "                    \n",
    "                sub_root = sub_root.next    \n",
    "                print(sub_root)\n",
    "            root = root.next"
   ]
  },
  {
   "cell_type": "code",
   "execution_count": 23,
   "metadata": {},
   "outputs": [],
   "source": [
    "linkedlist1 = LinkedList(4)\n",
    "linkedlist1.insert_node('h',10)\n",
    "linkedlist1.insert_node(2,15)\n",
    "linkedlist1.insert_node(3,4)\n",
    "linkedlist1.insert_node(4,20)"
   ]
  },
  {
   "cell_type": "code",
   "execution_count": 24,
   "metadata": {},
   "outputs": [],
   "source": [
    "linkedlist2 = LinkedList(4)\n",
    "linkedlist2.insert_node('h',8)\n",
    "linkedlist2.insert_node(2,4)\n",
    "linkedlist2.insert_node(3,2)\n",
    "linkedlist2.insert_node(4,10)"
   ]
  },
  {
   "cell_type": "code",
   "execution_count": 25,
   "metadata": {},
   "outputs": [
    {
     "name": "stdout",
     "output_type": "stream",
     "text": [
      "0-->4-->20\n",
      "1\n",
      "2-->10\n",
      "3-->15\n",
      "\n",
      "<linked_list.Node object at 0x7fc0581580b8>\n",
      "Null\n",
      "<linked_list.Node object at 0x7fc0581580b8>\n",
      "Null\n",
      "Null\n",
      "Null\n"
     ]
    }
   ],
   "source": [
    "l = ListUnionIntersection()\n",
    "l.get_union_intersection()"
   ]
  },
  {
   "cell_type": "code",
   "execution_count": null,
   "metadata": {},
   "outputs": [],
   "source": [
    "l.hashing.hash_table[0].head_node.next.next"
   ]
  },
  {
   "cell_type": "code",
   "execution_count": 26,
   "metadata": {},
   "outputs": [
    {
     "data": {
      "text/plain": [
       "[8, 8, 4, 2]"
      ]
     },
     "execution_count": 26,
     "metadata": {},
     "output_type": "execute_result"
    }
   ],
   "source": [
    "l.union"
   ]
  },
  {
   "cell_type": "code",
   "execution_count": 27,
   "metadata": {},
   "outputs": [
    {
     "data": {
      "text/plain": [
       "[4, 10]"
      ]
     },
     "execution_count": 27,
     "metadata": {},
     "output_type": "execute_result"
    }
   ],
   "source": [
    "l.intersection"
   ]
  },
  {
   "cell_type": "code",
   "execution_count": null,
   "metadata": {},
   "outputs": [],
   "source": []
  },
  {
   "cell_type": "code",
   "execution_count": null,
   "metadata": {},
   "outputs": [],
   "source": []
  }
 ],
 "metadata": {
  "kernelspec": {
   "display_name": "Python 3",
   "language": "python",
   "name": "python3"
  },
  "language_info": {
   "codemirror_mode": {
    "name": "ipython",
    "version": 3
   },
   "file_extension": ".py",
   "mimetype": "text/x-python",
   "name": "python",
   "nbconvert_exporter": "python",
   "pygments_lexer": "ipython3",
   "version": "3.7.1"
  }
 },
 "nbformat": 4,
 "nbformat_minor": 2
}
