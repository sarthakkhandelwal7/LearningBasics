{
 "cells": [
  {
   "cell_type": "code",
   "execution_count": 1,
   "metadata": {},
   "outputs": [],
   "source": [
    "from linked_list import LinkedList\n",
    "from hash_table import HashWithChaining\n",
    "class ListUnionIntersection:\n",
    "    def __init__(self):\n",
    "        self.union = []\n",
    "        self.intersection = []\n",
    "        self.hashing = 0    \n",
    "    \n",
    "    def get_union_intersection(self):\n",
    "        #ternary operator\n",
    "        bigger_list = linkedlist1.find_length() < linkedlist2.find_length() and linkedlist2 or linkedlist1\n",
    "        smaller_list = linkedlist1.find_length() < linkedlist2.find_length() and linkedlist1 or linkedlist2\n",
    "        \n",
    "        size = bigger_list.find_length()\n",
    "        self.hashing = HashWithChaining(size)\n",
    "        root = bigger_list.head_node \n",
    "        \n",
    "        while(root != 'Null'):\n",
    "            self.hashing.insert(root.data)\n",
    "            self.union.append(root.data)\n",
    "            root = root.next\n",
    "        \n",
    "        root = smaller_list.head_node\n",
    "        print(self.hashing)\n",
    "        \n",
    "        while(root != 'Null'):\n",
    "            index = root.data % size\n",
    "            hash_obj = self.hashing.hash_table[index].head_node\n",
    "           \n",
    "            while(hash_obj != 'Null'):\n",
    "                print(f'{root.data} and {hash_obj.data}')\n",
    "                checker = 0\n",
    "                if hash_obj.data == root.data:\n",
    "                    checker = 1\n",
    "                    break\n",
    "                hash_obj = hash_obj.next\n",
    "                \n",
    "            if checker:\n",
    "                self.intersection.append(root.data)\n",
    "            else:\n",
    "                self.union.append(root.data)\n",
    "                    \n",
    "            root = root.next"
   ]
  },
  {
   "cell_type": "code",
   "execution_count": 2,
   "metadata": {},
   "outputs": [],
   "source": [
    "linkedlist1 = LinkedList(5)\n",
    "linkedlist1.insert_node('h',10)\n",
    "linkedlist1.insert_node(2,15)\n",
    "linkedlist1.insert_node(3,4)\n",
    "linkedlist1.insert_node(4,20)\n",
    "#linkedlist1.insert_node(5,35)\n",
    "#linkedlist1.insert_node(6,1)"
   ]
  },
  {
   "cell_type": "code",
   "execution_count": 3,
   "metadata": {},
   "outputs": [],
   "source": [
    "linkedlist2 = LinkedList(4)\n",
    "linkedlist2.insert_node('h',8)\n",
    "linkedlist2.insert_node(2,4)\n",
    "linkedlist2.insert_node(3,2)\n",
    "linkedlist2.insert_node(4,10)"
   ]
  },
  {
   "cell_type": "code",
   "execution_count": 4,
   "metadata": {},
   "outputs": [
    {
     "name": "stdout",
     "output_type": "stream",
     "text": [
      "0-->4-->20\n",
      "1\n",
      "2-->10\n",
      "3-->15\n",
      "\n",
      "8 and 4\n",
      "8 and 20\n",
      "4 and 4\n",
      "2 and 10\n",
      "10 and 10\n"
     ]
    }
   ],
   "source": [
    "l = ListUnionIntersection()\n",
    "l.get_union_intersection()"
   ]
  },
  {
   "cell_type": "code",
   "execution_count": 13,
   "metadata": {},
   "outputs": [],
   "source": [
    "l.union.reverse()"
   ]
  },
  {
   "cell_type": "code",
   "execution_count": 14,
   "metadata": {},
   "outputs": [
    {
     "data": {
      "text/plain": [
       "[2, 8, 20, 4, 15, 10]"
      ]
     },
     "execution_count": 14,
     "metadata": {},
     "output_type": "execute_result"
    }
   ],
   "source": [
    "l.union"
   ]
  },
  {
   "cell_type": "code",
   "execution_count": 11,
   "metadata": {},
   "outputs": [
    {
     "data": {
      "text/plain": [
       "[4, 10]"
      ]
     },
     "execution_count": 11,
     "metadata": {},
     "output_type": "execute_result"
    }
   ],
   "source": [
    "l.intersection"
   ]
  },
  {
   "cell_type": "code",
   "execution_count": null,
   "metadata": {},
   "outputs": [],
   "source": []
  },
  {
   "cell_type": "code",
   "execution_count": null,
   "metadata": {},
   "outputs": [],
   "source": []
  }
 ],
 "metadata": {
  "kernelspec": {
   "display_name": "Python 3",
   "language": "python",
   "name": "python3"
  },
  "language_info": {
   "codemirror_mode": {
    "name": "ipython",
    "version": 3
   },
   "file_extension": ".py",
   "mimetype": "text/x-python",
   "name": "python",
   "nbconvert_exporter": "python",
   "pygments_lexer": "ipython3",
   "version": "3.7.3"
  }
 },
 "nbformat": 4,
 "nbformat_minor": 2
}
