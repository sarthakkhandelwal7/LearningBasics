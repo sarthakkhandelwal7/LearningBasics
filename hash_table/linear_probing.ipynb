{
 "cells": [
  {
   "cell_type": "code",
   "execution_count": null,
   "metadata": {},
   "outputs": [],
   "source": [
    "class LinearProbing:\n",
    "    def __init__(self,size):\n",
    "        self.hash_table = [None]*size\n",
    "        self.size = size\n",
    "    def insert(self,key):\n",
    "        index = key % self.size\n",
    "                     \n",
    "        if(self.hash_table[index] == None or self.hash_table[index] == 'Del'):\n",
    "            self.hash_table[index] = key\n",
    "            \n",
    "        else:\n",
    "            i = 0\n",
    "            while(self.hash_table[index] != None and self.hash_table[index] != 'Del'):\n",
    "                i+=1\n",
    "                index = (key + i) % self.size\n",
    "                \n",
    "            \n",
    "            self.hash_table[index] = key\n",
    "    \n",
    "    def delete(self,key):\n",
    "        index = key % self.size\n",
    "        i = 0\n",
    "        while(self.hash_table[index] != None):\n",
    "            if(self.hash_table[index] == key):\n",
    "                self.hash_table[index] = 'Del'\n",
    "                break\n",
    "            i+=1\n",
    "            index = (key + i) % self.size\n",
    "    \n",
    "    def search(self,key):\n",
    "        index = key % self.size\n",
    "        i = 0\n",
    "        while(self.hash_table[index] != None):\n",
    "            if(self.hash_table[index] == key):\n",
    "                print(\"Present\")\n",
    "                break\n",
    "            i+=1\n",
    "            index = (key + i) % self.size\n",
    "        if self.hash_table[index] == None:\n",
    "            print(\"Not present\")"
   ]
  }
 ],
 "metadata": {
  "kernelspec": {
   "display_name": "Python 3",
   "language": "python",
   "name": "python3"
  },
  "language_info": {
   "codemirror_mode": {
    "name": "ipython",
    "version": 3
   },
   "file_extension": ".py",
   "mimetype": "text/x-python",
   "name": "python",
   "nbconvert_exporter": "python",
   "pygments_lexer": "ipython3",
   "version": "3.7.1"
  }
 },
 "nbformat": 4,
 "nbformat_minor": 2
}
