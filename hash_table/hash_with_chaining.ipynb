{
 "cells": [
  {
   "cell_type": "code",
   "execution_count": null,
   "metadata": {},
   "outputs": [],
   "source": [
    "from linked_list import LinkedList\n",
    "class HashWithChaining:\n",
    "    def __init__(self,size):\n",
    "        self.size = size\n",
    "        self.hash_table = ['']*size\n",
    "    \n",
    "    def insert(self,ele):\n",
    "        hash_key = ele%self.size\n",
    "        \n",
    "        if type(self.hash_table[hash_key]) is not str:\n",
    "            self.hash_table[hash_key].insert_node('e',ele)\n",
    "            \n",
    "        else:\n",
    "            self.hash_table[hash_key] = LinkedList(0)\n",
    "            self.hash_table[hash_key].insert_node('h',ele)\n",
    "    \n",
    "    def delete(self,ele):\n",
    "        hash_key = ele%self.size\n",
    "        if type(self.hash_table[hash_key]) is not str:\n",
    "            curr = self.hash_table[hash_key].head_node\n",
    "            previous = None\n",
    "\n",
    "            if curr.data == ele:\n",
    "                if curr.next == 'Null':\n",
    "                    self.hash_table[hash_key] = curr.next\n",
    "                else:\n",
    "                    self.hash_table[hash_key].head_node = curr.next\n",
    "\n",
    "            else:\n",
    "                while (curr != 'Null'):\n",
    "                    if curr.data == ele:\n",
    "                        previous.next = curr.next\n",
    "                    previous = curr\n",
    "                    curr = curr.next\n",
    "    def __str__(self):\n",
    "        st = ''\n",
    "        subst = ''\n",
    "        for i in range(self.size):\n",
    "            if type(self.hash_table[i]) is not str:\n",
    "                curr = self.hash_table[i].head_node\n",
    "                st+=f'{i}-->'\n",
    "                while curr !='Null':\n",
    "                    subst+=f'{curr.data}-->'\n",
    "                    curr = curr.next\n",
    "                st+=(subst[:len(subst)-3]+'\\n')\n",
    "                subst = ''\n",
    "            else:\n",
    "                st+=(f'{i}'+'\\n')\n",
    "        return st"
   ]
  }
 ],
 "metadata": {
  "kernelspec": {
   "display_name": "Python 3",
   "language": "python",
   "name": "python3"
  },
  "language_info": {
   "codemirror_mode": {
    "name": "ipython",
    "version": 3
   },
   "file_extension": ".py",
   "mimetype": "text/x-python",
   "name": "python",
   "nbconvert_exporter": "python",
   "pygments_lexer": "ipython3",
   "version": "3.7.1"
  }
 },
 "nbformat": 4,
 "nbformat_minor": 2
}
