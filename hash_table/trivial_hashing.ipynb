{
 "cells": [
  {
   "cell_type": "code",
   "execution_count": null,
   "metadata": {
    "scrolled": true
   },
   "outputs": [],
   "source": [
    "class TrivialHashing:\n",
    "    global max\n",
    "    max = 100\n",
    "    def __init__(self,data_list):\n",
    "        self.data_list = data_list\n",
    "        self.hash_table = [ [0,0]for j in range(max)]\n",
    "    \n",
    "    def generate(self):\n",
    "        for ele in self.data_list:\n",
    "                        \n",
    "            if(ele < 0):\n",
    "                self.hash_table[abs(ele)][1] = ele\n",
    "            \n",
    "            else:\n",
    "                self.hash_table[ele][0] = ele\n",
    "    \n",
    "    def insert(self,ele):\n",
    "        if(ele<0):\n",
    "            self.hash_table[abs(ele)][1] = ele\n",
    "        \n",
    "        else:\n",
    "            self.hash_table[ele][0] = ele\n",
    "    \n",
    "    def search(self,ele):\n",
    "        if(ele in self.data_list):\n",
    "            print(\"Present\")\n",
    "        else:\n",
    "            print(\"Not present\")\n",
    "        \n",
    "            \n",
    "\n",
    "data_list = [int(input(f\"Enter element {i+1}: \")) for i in range(int(input(\"Enter no of elements: \")))]\n",
    "\n",
    "trivialhashing = TrivialHashing(data_list)\n",
    "trivialhashing.generate()"
   ]
  }
 ],
 "metadata": {
  "kernelspec": {
   "display_name": "Python 3",
   "language": "python",
   "name": "python3"
  },
  "language_info": {
   "codemirror_mode": {
    "name": "ipython",
    "version": 3
   },
   "file_extension": ".py",
   "mimetype": "text/x-python",
   "name": "python",
   "nbconvert_exporter": "python",
   "pygments_lexer": "ipython3",
   "version": "3.7.1"
  }
 },
 "nbformat": 4,
 "nbformat_minor": 2
}
