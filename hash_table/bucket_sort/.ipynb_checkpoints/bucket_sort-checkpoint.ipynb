{
 "cells": [
  {
   "cell_type": "code",
   "execution_count": null,
   "metadata": {},
   "outputs": [],
   "source": [
    "from hash_with_chaining import HashWithChaining\n",
    "def insert_elements_in_bucket(arr):\n",
    "    for i in arr:\n",
    "        hashwithchaining.insert(i)\n",
    "        \n",
    "def bucket_sort(arr):\n",
    "    insert_elements_in_bucket(arr)\n",
    "    i = 0\n",
    "    \n",
    "    #insertion sort\n",
    "    for i in range(len(arr)):\n",
    "        if type(hashwithchaining.hash_table[i]) is not str:\n",
    "            previous = hashwithchaining.hash_table[i].head_node\n",
    "            curr = previous.next\n",
    "            while curr != 'Null':\n",
    "                while curr.data<previous.data and type(previous.previous) is not str:\n",
    "                    previous = previous.previous\n",
    "                if curr.data<previous.data:\n",
    "                    temp = curr.data\n",
    "                    curr.data = previous.data\n",
    "                    previous.data = temp\n",
    "                curr = curr.next\n",
    "    j = 0\n",
    "    for i in range(len(arr)):\n",
    "        if type(hashwithchaining.hash_table[i]) is not str:\n",
    "            curr = hashwithchaining.hash_table[i].head_node\n",
    "            while curr != 'Null':\n",
    "                arr[j] = curr.data\n",
    "                j+=1\n",
    "                curr = curr.next\n",
    "arr = [0.897, 0.565, 0.656, 0.1234, 0.665, 0.3434]\n",
    "hashwithchaining = HashWithChaining(len(arr))"
   ]
  },
  {
   "cell_type": "code",
   "execution_count": null,
   "metadata": {},
   "outputs": [],
   "source": [
    "bucket_sort(arr)"
   ]
  }
 ],
 "metadata": {
  "kernelspec": {
   "display_name": "Python 3",
   "language": "python",
   "name": "python3"
  },
  "language_info": {
   "codemirror_mode": {
    "name": "ipython",
    "version": 3
   },
   "file_extension": ".py",
   "mimetype": "text/x-python",
   "name": "python",
   "nbconvert_exporter": "python",
   "pygments_lexer": "ipython3",
   "version": "3.7.3"
  }
 },
 "nbformat": 4,
 "nbformat_minor": 2
}
