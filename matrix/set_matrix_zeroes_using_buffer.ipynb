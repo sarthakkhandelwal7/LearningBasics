{
 "cells": [
  {
   "cell_type": "code",
   "execution_count": null,
   "metadata": {},
   "outputs": [],
   "source": [
    "class Solution(object):\n",
    "    def setZeroes(self, matrix):\n",
    "        \"\"\"\n",
    "        \"\"\"\n",
    "        row_set = set()\n",
    "        column_set = set()\n",
    "        for c in range(len(matrix)):\n",
    "            for r in range(len(matrix[0])):\n",
    "                if matrix[c][r] == 0:\n",
    "                    row_set.add(r)\n",
    "                    column_set.add(c)\n",
    "        for c in range(len(matrix)):\n",
    "            for r in range(len(matrix[0])):\n",
    "                if c in column_set or r in row_set:\n",
    "                    matrix[c][r] = 0\n",
    "        return matrix"
   ]
  }
 ],
 "metadata": {
  "kernelspec": {
   "display_name": "Python 3",
   "language": "python",
   "name": "python3"
  },
  "language_info": {
   "codemirror_mode": {
    "name": "ipython",
    "version": 3
   },
   "file_extension": ".py",
   "mimetype": "text/x-python",
   "name": "python",
   "nbconvert_exporter": "python",
   "pygments_lexer": "ipython3",
   "version": "3.7.3"
  }
 },
 "nbformat": 4,
 "nbformat_minor": 2
}
