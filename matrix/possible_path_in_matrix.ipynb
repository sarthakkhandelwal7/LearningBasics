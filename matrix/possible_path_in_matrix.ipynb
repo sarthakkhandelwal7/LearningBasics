{
 "cells": [
  {
   "cell_type": "code",
   "execution_count": null,
   "metadata": {},
   "outputs": [],
   "source": [
    "class MatrixPaths:\n",
    "    def __init__(self,r,c):\n",
    "        self.r = r\n",
    "        self.c = c\n",
    "        self.path_matrix = [[0 for _ in range(c)] for _ in range(r)]\n",
    "    def get_paths(self):\n",
    "        for i in range(self.c):\n",
    "            self.path_matrix[0][i] = 1;\n",
    "        for i in range(self.r):\n",
    "            self.path_matrix[i][0] = 1;\n",
    "        for i in range(1,self.r):\n",
    "            for j in range(1,self.c):\n",
    "                self.path_matrix[i][j] = self.path_matrix[i-1][j]+self.path_matrix[i][j-1]\n",
    "        return self.path_matrix[-1][-1]"
   ]
  },
  {
   "cell_type": "code",
   "execution_count": null,
   "metadata": {},
   "outputs": [],
   "source": [
    "matrixpaths = MatrixPaths(3,4)\n",
    "matrixpaths.get_paths()"
   ]
  }
 ],
 "metadata": {
  "kernelspec": {
   "display_name": "Python 3",
   "language": "python",
   "name": "python3"
  },
  "language_info": {
   "codemirror_mode": {
    "name": "ipython",
    "version": 3
   },
   "file_extension": ".py",
   "mimetype": "text/x-python",
   "name": "python",
   "nbconvert_exporter": "python",
   "pygments_lexer": "ipython3",
   "version": "3.7.3"
  }
 },
 "nbformat": 4,
 "nbformat_minor": 2
}
