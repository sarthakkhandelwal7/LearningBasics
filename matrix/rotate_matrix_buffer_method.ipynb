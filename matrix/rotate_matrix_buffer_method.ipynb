{
 "cells": [
  {
   "cell_type": "code",
   "execution_count": null,
   "metadata": {},
   "outputs": [],
   "source": [
    "class Matrix:\n",
    "    def __init__(self,matrix):\n",
    "        self.matrix = matrix\n",
    "        self.rotated_matrix = [[None for _ in range(len(matrix)) ] for _ in range(len(matrix[0]))]\n",
    "    def rotate_matrix(self):\n",
    "        for i in range(len(self.matrix)):\n",
    "            for j in range(len(self.matrix[0])):               \n",
    "                self.rotated_matrix[j][len(self.matrix)-1-i] = self.matrix[i][j]\n",
    "        "
   ]
  },
  {
   "cell_type": "code",
   "execution_count": null,
   "metadata": {},
   "outputs": [],
   "source": [
    "matrix = Matrix([ [1, 2, 3, 10], \n",
    "        [4, 5, 6, 11], \n",
    "        [7, 8, 9, 12] ] )\n",
    "matrix.rotate_matrix()"
   ]
  }
 ],
 "metadata": {
  "kernelspec": {
   "display_name": "Python 3",
   "language": "python",
   "name": "python3"
  },
  "language_info": {
   "codemirror_mode": {
    "name": "ipython",
    "version": 3
   },
   "file_extension": ".py",
   "mimetype": "text/x-python",
   "name": "python",
   "nbconvert_exporter": "python",
   "pygments_lexer": "ipython3",
   "version": "3.7.3"
  }
 },
 "nbformat": 4,
 "nbformat_minor": 2
}
