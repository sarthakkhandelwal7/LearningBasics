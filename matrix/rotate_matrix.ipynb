{
 "cells": [
  {
   "cell_type": "code",
   "execution_count": null,
   "metadata": {},
   "outputs": [],
   "source": [
    "class Matrix:\n",
    "    def __init__(self,matrix):\n",
    "        self.matrix = matrix\n",
    "        \n",
    "    def rotate_matrix(self):\n",
    "        #for i in range(int(length/2)):\n",
    "        # side = length/i\n",
    "        length = len(self.matrix)\n",
    "        for i in range(int(length/2)):\n",
    "            print(f'length-(i+2): {length-(i*2+2)}')\n",
    "            for j in range(length-(i*2+2)):\n",
    "                \n",
    "                swap = self.matrix[i][i]\n",
    "                self.matrix[i][i] = self.matrix[i][j+1+i]\n",
    "                self.matrix[i][j+1+i] = swap\n",
    "\n",
    "                swap = self.matrix[i][length-i-1]\n",
    "                self.matrix[i][length-i-1] = self.matrix[j+1+i][length-i-1]\n",
    "                self.matrix[j+1+i][length-i-1] = swap\n",
    "\n",
    "                swap = self.matrix[length-i-1][length-i-1]\n",
    "                self.matrix[length-i-1][length-i-1] = self.matrix[length-i-1][length-i-j-2]\n",
    "                self.matrix[length-i-1][length-i-j-2] = swap\n",
    "\n",
    "                swap = self.matrix[length-i-1][i]\n",
    "                self.matrix[length-i-1][i] = self.matrix[length-j-i-2][i]\n",
    "                self.matrix[length-j-i-2][i] = swap\n",
    "\n",
    "            swap = self.matrix[i][i]\n",
    "            self.matrix[i][i] = self.matrix[i][length-1-i]\n",
    "            self.matrix[i][length-1-i] = swap\n",
    "\n",
    "            swap = self.matrix[i][i]\n",
    "            self.matrix[i][i] = self.matrix[length-1-i][length-1-i]\n",
    "            self.matrix[length-1-i][length-1-i] = swap\n",
    "\n",
    "            swap = self.matrix[i][i]\n",
    "            self.matrix[i][i] = self.matrix[length-1-i][i]\n",
    "            self.matrix[length-1-i][i] = swap"
   ]
  },
  {
   "cell_type": "code",
   "execution_count": null,
   "metadata": {},
   "outputs": [],
   "source": [
    "m =[[1,   2,  3,  4, 21], \n",
    "    [5,   6,  7,  8, 22], \n",
    "    [9,  10, 11, 12, 23], \n",
    "    [13, 14, 15, 16, 24], \n",
    "    [25, 26, 27, 28, 29] ] \n",
    "matrix = Matrix(m)\n",
    "for i in range(5):\n",
    "    for j in range(5):\n",
    "        print(f'{i}{j}: {matrix.matrix[i][j]}', end = \"      \")\n",
    "    print()\n",
    "    \n",
    "print()\n",
    "matrix.rotate_matrix()\n",
    "print()\n",
    "for i in range(5):\n",
    "    for j in range(5):\n",
    "        print(f'{i}{j}: {matrix.matrix[i][j]}', end = \"      \")\n",
    "    print()"
   ]
  }
 ],
 "metadata": {
  "kernelspec": {
   "display_name": "Python 3",
   "language": "python",
   "name": "python3"
  },
  "language_info": {
   "codemirror_mode": {
    "name": "ipython",
    "version": 3
   },
   "file_extension": ".py",
   "mimetype": "text/x-python",
   "name": "python",
   "nbconvert_exporter": "python",
   "pygments_lexer": "ipython3",
   "version": "3.7.1"
  }
 },
 "nbformat": 4,
 "nbformat_minor": 2
}
