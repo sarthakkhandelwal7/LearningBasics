{
 "cells": [
  {
   "cell_type": "code",
   "execution_count": null,
   "metadata": {},
   "outputs": [],
   "source": [
    "class Node:\n",
    "    def __init__(self,data):\n",
    "        self.data = data\n",
    "        self.left = None\n",
    "        self.right = None\n",
    "class BinaryTreeDeletion:\n",
    "    def __init__(self):\n",
    "        self.right_most = None\n",
    "        self.previous = None\n",
    "    def find_right_most_node(self,root):\n",
    "        while root != None:\n",
    "            if root.right == None:\n",
    "                self.right_most = root.data\n",
    "            elif root.right.right == None:\n",
    "                self.previous = root\n",
    "            root = root.right\n",
    "    def find_element(self,root,data):\n",
    "        if root and root.data == data:\n",
    "            root.data = self.right_most\n",
    "            self.previous.right = None\n",
    "            return None\n",
    "        else:\n",
    "            if root:\n",
    "                self.find_element(root.left,data)\n",
    "                self.find_element(root.right,data)\n",
    "    def delete(self,root,data):\n",
    "        if self.right_most != data:\n",
    "            node = self.find_element(root,data)\n",
    "            return None\n",
    "        else:\n",
    "            self.previous.right = None\n",
    "    def inorder(self,root): \n",
    "        if root: \n",
    "            self.inorder(root.left) \n",
    "            print(root.data) \n",
    "            self.inorder(root.right)\n",
    "root_node = Node(10)\n",
    "root_node.left = Node(11)\n",
    "root_node.left.left = Node(7)\n",
    "root_node.right = Node(9)\n",
    "root_node.left.right = Node(12)\n",
    "root_node.right.left = Node(15)\n",
    "root_node.right.right = Node(8)\n",
    "root = root_node\n",
    "binarytreedeletion = BinaryTreeDeletion()\n",
    "binarytreedeletion.find_right_most_node(root)"
   ]
  }
 ],
 "metadata": {
  "kernelspec": {
   "display_name": "Python 3",
   "language": "python",
   "name": "python3"
  },
  "language_info": {
   "codemirror_mode": {
    "name": "ipython",
    "version": 3
   },
   "file_extension": ".py",
   "mimetype": "text/x-python",
   "name": "python",
   "nbconvert_exporter": "python",
   "pygments_lexer": "ipython3",
   "version": "3.6.7"
  }
 },
 "nbformat": 4,
 "nbformat_minor": 2
}
