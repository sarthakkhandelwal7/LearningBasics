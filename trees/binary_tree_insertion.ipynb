{
 "cells": [
  {
   "cell_type": "code",
   "execution_count": null,
   "metadata": {},
   "outputs": [],
   "source": [
    "class Node:\n",
    "    def __init__(self,data):\n",
    "        self.left = None\n",
    "        self.right = None\n",
    "        self.data = data\n",
    "class BinaryTreeInsertion:\n",
    "    def insert(self,root,data):\n",
    "        if root:\n",
    "            if ((root.left and root.right)or(root.left == None and root.right == None)):\n",
    "                self.insert(root.left,data)\n",
    "                self.insert(root.right,data)\n",
    "            else:\n",
    "                if root.left:\n",
    "                    root.right = Node(data)\n",
    "                else:\n",
    "                    print(f\"{root.data}, {root.left}, {root.right}\")\n",
    "                    root.left = Node(data)\n",
    "    def inorder(self,root): \n",
    "        if root: \n",
    "            self.inorder(root.left) \n",
    "            print(root.data) \n",
    "            self.inorder(root.right)\n",
    "binarytreeinsertion = BinaryTreeInsertion()\n",
    "root_node = Node(10)\n",
    "root_node.left = Node(11)\n",
    "root_node.left.left = Node(7)\n",
    "root_node.right = Node(9)\n",
    "root_node.right.left = Node(15)\n",
    "root_node.right.right = Node(8)\n",
    "root = root_node"
   ]
  }
 ],
 "metadata": {
  "kernelspec": {
   "display_name": "Python 3",
   "language": "python",
   "name": "python3"
  },
  "language_info": {
   "codemirror_mode": {
    "name": "ipython",
    "version": 3
   },
   "file_extension": ".py",
   "mimetype": "text/x-python",
   "name": "python",
   "nbconvert_exporter": "python",
   "pygments_lexer": "ipython3",
   "version": "3.7.1"
  }
 },
 "nbformat": 4,
 "nbformat_minor": 2
}
