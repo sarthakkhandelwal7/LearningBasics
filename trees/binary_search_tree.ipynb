{
 "cells": [
  {
   "cell_type": "code",
   "execution_count": null,
   "metadata": {},
   "outputs": [],
   "source": [
    "class Node:\n",
    "    def __init__(self,data):\n",
    "        self.left = None\n",
    "        self.right = None\n",
    "        self.data = data\n",
    "class BinarySearchTree:\n",
    "    def __init__(self,root_node):\n",
    "        self.root_node = root_node\n",
    "    def insert(self,root,node): \n",
    "        if root.data < node.data: \n",
    "            if root.right is None: \n",
    "                root.right = node \n",
    "            else: \n",
    "                self.insert(root.right, node)\n",
    "        else: \n",
    "            if root.left is None: \n",
    "                root.left = node \n",
    "            else: \n",
    "                self.insert(root.left, node)\n",
    "    def inorder(self,root): \n",
    "        if root: \n",
    "            self.inorder(root.left) \n",
    "            print(root.data) \n",
    "            self.inorder(root.right) \n",
    "r = Node(int(input(\"Enter root node:\")))\n",
    "binarysearchtree = BinarySearchTree(r)"
   ]
  }
 ],
 "metadata": {
  "kernelspec": {
   "display_name": "Python 3",
   "language": "python",
   "name": "python3"
  },
  "language_info": {
   "codemirror_mode": {
    "name": "ipython",
    "version": 3
   },
   "file_extension": ".py",
   "mimetype": "text/x-python",
   "name": "python",
   "nbconvert_exporter": "python",
   "pygments_lexer": "ipython3",
   "version": "3.7.1"
  }
 },
 "nbformat": 4,
 "nbformat_minor": 2
}
