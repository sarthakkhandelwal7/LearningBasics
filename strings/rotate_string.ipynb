{
 "cells": [
  {
   "cell_type": "code",
   "execution_count": 32,
   "metadata": {},
   "outputs": [],
   "source": [
    "class Solution(object):\n",
    "    def rotateString(self, A, B):\n",
    "        start_index = []\n",
    "        for (i,char) in enumerate(B):\n",
    "            if char == A[0]:\n",
    "                start_index.append(i)\n",
    "        \n",
    "        for i in start_index:\n",
    "            if B[i+1] == A[1]:\n",
    "                if self.check_rotated(A,B,i):\n",
    "                    return 'true'\n",
    "        return 'false'\n",
    "    def check_rotated(self,a,b,i):\n",
    "        for char in a:\n",
    "            if i > len(b)-1:\n",
    "                i = 0\n",
    "            if char != b[i]:\n",
    "                return False\n",
    "            i+=1\n",
    "        return True"
   ]
  },
  {
   "cell_type": "code",
   "execution_count": 33,
   "metadata": {},
   "outputs": [
    {
     "data": {
      "text/plain": [
       "'false'"
      ]
     },
     "execution_count": 33,
     "metadata": {},
     "output_type": "execute_result"
    }
   ],
   "source": [
    "Solution().rotateString('abced','abcde')"
   ]
  },
  {
   "cell_type": "code",
   "execution_count": null,
   "metadata": {},
   "outputs": [],
   "source": []
  }
 ],
 "metadata": {
  "kernelspec": {
   "display_name": "Python 3",
   "language": "python",
   "name": "python3"
  },
  "language_info": {
   "codemirror_mode": {
    "name": "ipython",
    "version": 3
   },
   "file_extension": ".py",
   "mimetype": "text/x-python",
   "name": "python",
   "nbconvert_exporter": "python",
   "pygments_lexer": "ipython3",
   "version": "3.7.3"
  }
 },
 "nbformat": 4,
 "nbformat_minor": 2
}
