{
 "cells": [
  {
   "cell_type": "code",
   "execution_count": null,
   "metadata": {},
   "outputs": [],
   "source": [
    "\"\"\"\n",
    "    check whether a given string is a permutation of a palindrome\n",
    "\"\"\"\n",
    "class PalindromePermutaion:        \n",
    "    def check(self,string):\n",
    "        number_of_odd = 0\n",
    "        char_count = [0]*26\n",
    "        \n",
    "        for i in string:\n",
    "            if i != ' ':\n",
    "                char_count[ord(i.lower())-97] += 1\n",
    "        for i in char_count:\n",
    "            if i%2:\n",
    "                number_of_odd += 1\n",
    "                \n",
    "        if number_of_odd <= 1:\n",
    "            if ' ' in string:\n",
    "                if len(string)%2:\n",
    "                    if(number_of_odd):\n",
    "                        print(\"No\")\n",
    "                    else:\n",
    "                        print(\"Yes\")\n",
    "\n",
    "                else:\n",
    "                    if(number_of_odd):\n",
    "                        print(\"Yes\")\n",
    "                    else:\n",
    "                        print(\"No\")\n",
    "\n",
    "            else:\n",
    "                if len(string)%2:\n",
    "                    if(number_of_odd):\n",
    "                        print(\"Yes\")\n",
    "                    else:\n",
    "                        print(\"No\")\n",
    "\n",
    "                else:\n",
    "                    if(number_of_odd):\n",
    "                        print(\"No\")\n",
    "                    else:\n",
    "                        print(\"Yes\")\n",
    "        else:\n",
    "            print(\"No\")"
   ]
  },
  {
   "cell_type": "code",
   "execution_count": null,
   "metadata": {
    "scrolled": true
   },
   "outputs": [],
   "source": [
    "PalindromePermutaion().check('taco cata')"
   ]
  }
 ],
 "metadata": {
  "kernelspec": {
   "display_name": "Python 3",
   "language": "python",
   "name": "python3"
  },
  "language_info": {
   "codemirror_mode": {
    "name": "ipython",
    "version": 3
   },
   "file_extension": ".py",
   "mimetype": "text/x-python",
   "name": "python",
   "nbconvert_exporter": "python",
   "pygments_lexer": "ipython3",
   "version": "3.7.3"
  }
 },
 "nbformat": 4,
 "nbformat_minor": 2
}
