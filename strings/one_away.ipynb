{
 "cells": [
  {
   "cell_type": "code",
   "execution_count": null,
   "metadata": {},
   "outputs": [],
   "source": [
    "def is_one_away(first,second):\n",
    "    changes = 0\n",
    "    if len(first) >= len(second):\n",
    "        set1 = set(first)\n",
    "        set2 = set(second)\n",
    "    else:\n",
    "        set1 = set(second)\n",
    "        set2 = set(first)\n",
    "    if abs(len(first) - len(second)) == 1 and set2 <= set1:\n",
    "        return 'Yes'\n",
    "    elif len(first) == len(second) and len(set1 - set2) < 2 and len(set2 - set1) < 2:\n",
    "        return 'Yes'       \n",
    "    else:\n",
    "        return 'No'"
   ]
  },
  {
   "cell_type": "code",
   "execution_count": null,
   "metadata": {},
   "outputs": [],
   "source": [
    "is_one_away('bales','ball')"
   ]
  }
 ],
 "metadata": {
  "kernelspec": {
   "display_name": "Python 3",
   "language": "python",
   "name": "python3"
  },
  "language_info": {
   "codemirror_mode": {
    "name": "ipython",
    "version": 3
   },
   "file_extension": ".py",
   "mimetype": "text/x-python",
   "name": "python",
   "nbconvert_exporter": "python",
   "pygments_lexer": "ipython3",
   "version": "3.7.3"
  }
 },
 "nbformat": 4,
 "nbformat_minor": 2
}
