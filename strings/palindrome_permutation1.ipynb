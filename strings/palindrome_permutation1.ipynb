{
 "cells": [
  {
   "cell_type": "code",
   "execution_count": null,
   "metadata": {},
   "outputs": [],
   "source": [
    "\"\"\"\n",
    "    Check whether given string is palindrom permutation of given string\n",
    "\"\"\"\n",
    "class PalindromePermutation:\n",
    "    def check(self,string,permutation):\n",
    "        count_string = [0]*26\n",
    "        count_permutation = [0]*26\n",
    "        if len(string) != len(permutation):\n",
    "            return False\n",
    "        else:\n",
    "            for (i,char) in enumerate(string):\n",
    "                if char != ' ':\n",
    "                    count_string[ord(char.lower())-97] += 1\n",
    "                if permutation[i] != ' ':    \n",
    "                    count_permutation[ord(permutation[i].lower())-97] += 1\n",
    "        for (i,count) in enumerate(count_string):\n",
    "            if count_permutation[i] != count:\n",
    "                return False\n",
    "        left = 0\n",
    "        right = len(permutation)-1\n",
    "        while left<=right:\n",
    "            if permutation[left] != ' ' and permutation[right] != ' ' and permutation[left] != permutation[right]:\n",
    "                return False\n",
    "            else:\n",
    "                if permutation[left] == ' ':\n",
    "                    left += 1\n",
    "                elif permutation[right] == ' ':\n",
    "                    right -=1\n",
    "                else:\n",
    "                    left += 1\n",
    "                    right -= 1\n",
    "        return True"
   ]
  },
  {
   "cell_type": "code",
   "execution_count": null,
   "metadata": {},
   "outputs": [],
   "source": [
    "checker = ['aabdcdbaa', 'aadbcbdaa', 'abadcdaba',\n",
    "        'abdacadba', 'adabcbada', 'adbacabda',\n",
    "        'baadcdaab', 'badacadab', 'bdaacaadb',\n",
    "        'daabcbaad' ,'dabacabad' ,'dbaacaabd','asdffasd']\n",
    "for i in checker:\n",
    "    print(f'\\n{i}')\n",
    "    print(PalindromePermutation().check('aabbcadad',i))\n",
    "checker = ['taco cat', 'atco cta']\n",
    "for i in checker:\n",
    "    print(f'\\n{i}')\n",
    "    print(PalindromePermutation().check('Tact Coa',i))"
   ]
  }
 ],
 "metadata": {
  "kernelspec": {
   "display_name": "Python 3",
   "language": "python",
   "name": "python3"
  },
  "language_info": {
   "codemirror_mode": {
    "name": "ipython",
    "version": 3
   },
   "file_extension": ".py",
   "mimetype": "text/x-python",
   "name": "python",
   "nbconvert_exporter": "python",
   "pygments_lexer": "ipython3",
   "version": "3.7.3"
  }
 },
 "nbformat": 4,
 "nbformat_minor": 2
}
