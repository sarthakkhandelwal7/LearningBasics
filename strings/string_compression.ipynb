{
 "cells": [
  {
   "cell_type": "code",
   "execution_count": 10,
   "metadata": {},
   "outputs": [],
   "source": [
    "class Solution:\n",
    "    def compress(self,chars):\n",
    "        char_count = [0]*92\n",
    "        compressed_list = []\n",
    "        unique_char = set()\n",
    "        for i in chars:\n",
    "            char_count[ord(i)-35] += 1\n",
    "            unique_char.add(i)\n",
    "        for i in unique_char:\n",
    "            if char_count[ord(i)-35]:\n",
    "                compressed_list.append(i)\n",
    "                compressed_list.append(str(char_count[ord(i)-35]))\n",
    "            else:\n",
    "                compressed_list.append(i)\n",
    "        print(compressed_list)\n",
    "        return len(compressed_list)"
   ]
  },
  {
   "cell_type": "code",
   "execution_count": 11,
   "metadata": {},
   "outputs": [
    {
     "name": "stdout",
     "output_type": "stream",
     "text": [
      "['a', '2', 'b', '2', 'c', '3']\n"
     ]
    },
    {
     "data": {
      "text/plain": [
       "6"
      ]
     },
     "execution_count": 11,
     "metadata": {},
     "output_type": "execute_result"
    }
   ],
   "source": [
    "Solution().compress([\"a\",\"a\",\"b\",\"b\",\"c\",\"c\",\"c\"])"
   ]
  },
  {
   "cell_type": "code",
   "execution_count": null,
   "metadata": {},
   "outputs": [],
   "source": []
  }
 ],
 "metadata": {
  "kernelspec": {
   "display_name": "Python 3",
   "language": "python",
   "name": "python3"
  },
  "language_info": {
   "codemirror_mode": {
    "name": "ipython",
    "version": 3
   },
   "file_extension": ".py",
   "mimetype": "text/x-python",
   "name": "python",
   "nbconvert_exporter": "python",
   "pygments_lexer": "ipython3",
   "version": "3.7.3"
  }
 },
 "nbformat": 4,
 "nbformat_minor": 2
}
