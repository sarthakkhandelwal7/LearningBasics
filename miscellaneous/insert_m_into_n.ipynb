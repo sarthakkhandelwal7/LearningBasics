{
 "cells": [
  {
   "cell_type": "code",
   "execution_count": null,
   "metadata": {},
   "outputs": [],
   "source": [
    "\"\"\"\n",
    "    Inserting M into N such that m starts at bit j and ends at bit i\n",
    "\"\"\"\n",
    "def insert(n,m,i,j):\n",
    "    \"\"\"\n",
    "        captured_mask: Used to capture bits from i-1 to 0 \n",
    "        clear_mask:    Used to clear bits from j to 0\n",
    "    \"\"\"\n",
    "    captured_mask = (1<<i) -1\n",
    "    captured_bits = n & captured_mask\n",
    "    clear_mask = -1<<(j+1)\n",
    "    n &= clear_mask\n",
    "    m <<= (i)\n",
    "    n |= m\n",
    "    n |= captured_bits\n",
    "    return n\n",
    "insert(1024,19,2,6)"
   ]
  }
 ],
 "metadata": {
  "kernelspec": {
   "display_name": "Python 3",
   "language": "python",
   "name": "python3"
  },
  "language_info": {
   "codemirror_mode": {
    "name": "ipython",
    "version": 3
   },
   "file_extension": ".py",
   "mimetype": "text/x-python",
   "name": "python",
   "nbconvert_exporter": "python",
   "pygments_lexer": "ipython3",
   "version": "3.7.3"
  }
 },
 "nbformat": 4,
 "nbformat_minor": 2
}
