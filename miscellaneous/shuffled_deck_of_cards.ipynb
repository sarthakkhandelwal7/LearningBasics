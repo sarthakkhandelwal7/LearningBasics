{
 "cells": [
  {
   "cell_type": "code",
   "execution_count": null,
   "metadata": {},
   "outputs": [],
   "source": [
    "\"\"\"\n",
    "    Class Card: Represents card object and all its attributes\n",
    "\"\"\"\n",
    "import random\n",
    "class Card:\n",
    "    def __init__(self,val,suit):\n",
    "        self.val = val\n",
    "        self.suit = suit\n",
    "class DeckOfCards:\n",
    "    def __init__(self):\n",
    "        self.deck = []\n",
    "        self.generate()\n",
    "    def shuffle(self):\n",
    "        random.shuffle(self.deck)\n",
    "        \n",
    "    def generate(self):\n",
    "        suits = ['Heart','Spade','Diamond','Club']\n",
    "        vals = ['1','2','3','4','5','6','7','8','9','10','Jack','Queen','King','Ace']\n",
    "        for suit in suits:\n",
    "            for val in vals:\n",
    "                self.deck.append(Card(val,suit))\n",
    "    def __str__(self):\n",
    "        s = ''\n",
    "        for i in self.deck:\n",
    "            s += f\"{i.val} of {i.suit}\\n\"\n",
    "        return s"
   ]
  },
  {
   "cell_type": "code",
   "execution_count": null,
   "metadata": {},
   "outputs": [],
   "source": [
    "deckofcards = DeckOfCards()"
   ]
  },
  {
   "cell_type": "code",
   "execution_count": null,
   "metadata": {},
   "outputs": [],
   "source": [
    "print(deckofcards)"
   ]
  },
  {
   "cell_type": "code",
   "execution_count": null,
   "metadata": {
    "scrolled": true
   },
   "outputs": [],
   "source": [
    "deckofcards.shuffle()"
   ]
  }
 ],
 "metadata": {
  "kernelspec": {
   "display_name": "Python 3",
   "language": "python",
   "name": "python3"
  },
  "language_info": {
   "codemirror_mode": {
    "name": "ipython",
    "version": 3
   },
   "file_extension": ".py",
   "mimetype": "text/x-python",
   "name": "python",
   "nbconvert_exporter": "python",
   "pygments_lexer": "ipython3",
   "version": "3.7.3"
  }
 },
 "nbformat": 4,
 "nbformat_minor": 2
}
