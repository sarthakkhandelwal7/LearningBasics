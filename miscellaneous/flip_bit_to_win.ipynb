{
 "cells": [
  {
   "cell_type": "code",
   "execution_count": null,
   "metadata": {},
   "outputs": [],
   "source": [
    "def flip_bit(n):\n",
    "    \"\"\"\n",
    "        curr_len: Stores current count of one's\n",
    "        prev_len: Store previous count of one's\n",
    "        max_len:  Store max possible curr_len + prev_len\n",
    "    \"\"\"\n",
    "    curr_len = 0\n",
    "    prev_len = 0\n",
    "    max_len = 0\n",
    "    while n:\n",
    "        \n",
    "        #Count number of one's\n",
    "        if (n & 1) == 1:\n",
    "            curr_len+=1\n",
    "\n",
    "        else:\n",
    "            \"\"\"\n",
    "                If next bit to current bit is also 0 both prev_len and curr_len\n",
    "                are set to 0.\n",
    "                Otherwise prev_len is set to curr_len\n",
    "            \"\"\"\n",
    "            prev_len = 0 if (n & 2) == 0 else curr_len\n",
    "\n",
    "            curr_len = 0\n",
    "\n",
    "        max_len = max(curr_len + prev_len, max_len)\n",
    "        n >>= 1\n",
    "    return max_len + 1"
   ]
  },
  {
   "cell_type": "code",
   "execution_count": null,
   "metadata": {},
   "outputs": [],
   "source": [
    "flip_bit(21100)"
   ]
  }
 ],
 "metadata": {
  "kernelspec": {
   "display_name": "Python 3",
   "language": "python",
   "name": "python3"
  },
  "language_info": {
   "codemirror_mode": {
    "name": "ipython",
    "version": 3
   },
   "file_extension": ".py",
   "mimetype": "text/x-python",
   "name": "python",
   "nbconvert_exporter": "python",
   "pygments_lexer": "ipython3",
   "version": "3.7.3"
  }
 },
 "nbformat": 4,
 "nbformat_minor": 2
}
