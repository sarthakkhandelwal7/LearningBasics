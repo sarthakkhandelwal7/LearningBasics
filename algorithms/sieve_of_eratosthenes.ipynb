{
 "cells": [
  {
   "cell_type": "code",
   "execution_count": null,
   "metadata": {},
   "outputs": [],
   "source": [
    "class Solution(object):\n",
    "    def countPrimes(self, n):\n",
    "        \"\"\"\n",
    "            flag: List of prime numbers\n",
    "        \"\"\"\n",
    "        flag = [True]*n\n",
    "        i = 2\n",
    "        \n",
    "        while i*i<n:\n",
    "            if flag[i]:\n",
    "                for j in range(i*i,n,i):\n",
    "                    flag[j] = False\n",
    "            i += 1\n",
    "        return flag[2:].count(True)"
   ]
  },
  {
   "cell_type": "code",
   "execution_count": null,
   "metadata": {},
   "outputs": [],
   "source": [
    "Solution().countPrimes(31)"
   ]
  }
 ],
 "metadata": {
  "kernelspec": {
   "display_name": "Python 3",
   "language": "python",
   "name": "python3"
  },
  "language_info": {
   "codemirror_mode": {
    "name": "ipython",
    "version": 3
   },
   "file_extension": ".py",
   "mimetype": "text/x-python",
   "name": "python",
   "nbconvert_exporter": "python",
   "pygments_lexer": "ipython3",
   "version": "3.7.3"
  }
 },
 "nbformat": 4,
 "nbformat_minor": 2
}
