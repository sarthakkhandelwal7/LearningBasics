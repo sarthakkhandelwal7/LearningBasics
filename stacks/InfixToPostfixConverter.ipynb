{
 "cells": [
  {
   "cell_type": "code",
   "execution_count": 5,
   "metadata": {},
   "outputs": [
    {
     "name": "stdout",
     "output_type": "stream",
     "text": [
      "abcd^e-fgh*+^*i-+\n"
     ]
    }
   ],
   "source": [
    "from stacks.stacks import Stacks\n",
    "class EquationConverter:\n",
    "    def __init__(self,equation):\n",
    "        self.expression = ''\n",
    "        self.equation = equation\n",
    "        self.rank = {'+':1, '-':1, '*':2, '/':2, '^':3}\n",
    "    def convertor(self):\n",
    "        curr_rank = 0\n",
    "        previous_rank = 0\n",
    "        for i in self.equation:\n",
    "            \n",
    "            if i.isalpha():\n",
    "                self.expression+=i\n",
    "            \n",
    "            elif i not in'()':\n",
    "                curr_rank = self.rank[i]\n",
    "               \n",
    "                while  True:\n",
    "                    \n",
    "                    if curr_rank >= previous_rank or operators.sta[operators.end_pointer] == '(' :\n",
    "                        operators.push(i)\n",
    "                        previous_rank = curr_rank\n",
    "                        break\n",
    "                    \n",
    "                    else:\n",
    "                        self.expression+=operators.pop()\n",
    "                        if operators.sta[operators.end_pointer] != '(':\n",
    "                            previous_rank = self.rank[operators.sta[operators.end_pointer]]\n",
    "            \n",
    "            elif i == ')':\n",
    "                \n",
    "                while(operators.sta[operators.end_pointer]!= '('):\n",
    "                    self.expression+=operators.pop()\n",
    "                operators.pop()\n",
    "                if operators.space !=operators.size:\n",
    "                    previous_rank = self.rank[operators.sta[operators.end_pointer]]\n",
    "            \n",
    "            else:\n",
    "                operators.push(i)\n",
    "        \n",
    "        while operators.space != operators.size:\n",
    "            self.expression+=operators.pop()\n",
    "    \n",
    "    def __str__(self):\n",
    "        return self.expression\n",
    "\n",
    "equation = \"a+b*(c^d-e)^(f+g*h)-i\"\n",
    "operators = Stacks(len(equation))\n",
    "equationconverter = EquationConverter(equation)\n",
    "equationconverter.convertor()\n",
    "print(equationconverter)"
   ]
  }
 ],
 "metadata": {
  "kernelspec": {
   "display_name": "Python 3",
   "language": "python",
   "name": "python3"
  },
  "language_info": {
   "codemirror_mode": {
    "name": "ipython",
    "version": 3
   },
   "file_extension": ".py",
   "mimetype": "text/x-python",
   "name": "python",
   "nbconvert_exporter": "python",
   "pygments_lexer": "ipython3",
   "version": "3.6.7"
  }
 },
 "nbformat": 4,
 "nbformat_minor": 2
}
