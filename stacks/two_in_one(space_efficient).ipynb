{
 "cells": [
  {
   "cell_type": "code",
   "execution_count": null,
   "metadata": {},
   "outputs": [],
   "source": [
    "class TwoInOne:\n",
    "    def __init__(self,size):\n",
    "        self.size = size\n",
    "        self.two_stack = [None]*size\n",
    "        self.top1 = -1\n",
    "        self.top2 = size\n",
    "    def push1(self,num):\n",
    "        if self.top1<self.top2:\n",
    "            self.top1 += 1\n",
    "            self.two_stack[self.top1] = num\n",
    "            \n",
    "        else:\n",
    "            print(\"Stack 1 is full\")\n",
    "    def push2(self,num):\n",
    "        if self.top1<self.top2:\n",
    "            self.top2 -= 1\n",
    "            self.two_stack[self.top2] = num\n",
    "            \n",
    "        else:\n",
    "            print(\"Stack 2 is full\")\n",
    "    def pop1(self):\n",
    "        if self.top1>=0:\n",
    "            temp = self.two_stack[self.top1]\n",
    "            self.two_stack[self.top1] = None\n",
    "            self.top1 -= 1\n",
    "            return temp\n",
    "        else:\n",
    "            print(\"Stack 1 is empty\")\n",
    "    def pop2(self):\n",
    "        \n",
    "        if self.top2<self.size:\n",
    "            temp = self.two_stack[self.top2]\n",
    "            self.two_stack[self.top2] = None\n",
    "            self.top2 += 1\n",
    "            return temp\n",
    "        else:\n",
    "            print(\"Stack 2 is empty\")\n",
    "    "
   ]
  },
  {
   "cell_type": "code",
   "execution_count": null,
   "metadata": {},
   "outputs": [],
   "source": [
    "twoinone = TwoInOne(6)"
   ]
  },
  {
   "cell_type": "code",
   "execution_count": null,
   "metadata": {},
   "outputs": [],
   "source": [
    "\n",
    "twoinone.push1(1)\n",
    "twoinone.push1(2)\n",
    "twoinone.push1(3)\n",
    "twoinone.push2(4)\n",
    "twoinone.push2(5)\n",
    "twoinone.push2(6)"
   ]
  },
  {
   "cell_type": "code",
   "execution_count": null,
   "metadata": {
    "scrolled": false
   },
   "outputs": [],
   "source": [
    "twoinone.two_stack"
   ]
  },
  {
   "cell_type": "code",
   "execution_count": null,
   "metadata": {
    "scrolled": true
   },
   "outputs": [],
   "source": [
    "print(twoinone.top1)\n",
    "print(twoinone.top2)"
   ]
  },
  {
   "cell_type": "code",
   "execution_count": null,
   "metadata": {},
   "outputs": [],
   "source": [
    "twoinone.pop1()\n",
    "twoinone.pop2()"
   ]
  }
 ],
 "metadata": {
  "kernelspec": {
   "display_name": "Python 3",
   "language": "python",
   "name": "python3"
  },
  "language_info": {
   "codemirror_mode": {
    "name": "ipython",
    "version": 3
   },
   "file_extension": ".py",
   "mimetype": "text/x-python",
   "name": "python",
   "nbconvert_exporter": "python",
   "pygments_lexer": "ipython3",
   "version": "3.6.4"
  }
 },
 "nbformat": 4,
 "nbformat_minor": 2
}
