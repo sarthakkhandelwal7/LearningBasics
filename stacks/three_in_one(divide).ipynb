{
 "cells": [
  {
   "cell_type": "code",
   "execution_count": null,
   "metadata": {},
   "outputs": [],
   "source": [
    "class ThreeInOne:\n",
    "    def __init__(self,size):\n",
    "        self.size = size\n",
    "        self.three_stack = [None]*size\n",
    "        self.top1 = 0\n",
    "        self.top2 = 1\n",
    "        self.top3 = 2\n",
    "    def push1(self,num):\n",
    "        if self.three_stack[self.top1] == None:\n",
    "            self.three_stack[self.top1] = num\n",
    "            if self.top1 + 3 <self.size:\n",
    "                self.top1 += 3\n",
    "        else:\n",
    "            print(\"Stack 1 is full\")\n",
    "            \n",
    "    def push2(self,num):\n",
    "        \n",
    "        if self.three_stack[self.top2] == None:\n",
    "            self.three_stack[self.top2] = num\n",
    "            if self.top2 + 3 <self.size:\n",
    "                self.top2 += 3\n",
    "        else:\n",
    "            print(\"Stack 2 is full\")\n",
    "    \n",
    "    def push3(self,num):\n",
    "        if self.three_stack[self.top3] == None:\n",
    "            self.three_stack[self.top3] = num\n",
    "            if self.top3 + 3 <self.size:\n",
    "                self.top3 += 3\n",
    "        else:\n",
    "            print(\"Stack 3 is full\")\n",
    "    def pop1(self):\n",
    "        if self.three_stack[self.top1]:\n",
    "            temp = self.three_stack[self.top1]\n",
    "            self.three_stack[self.top1] = None\n",
    "            if self.top1 - 3 >= 0:\n",
    "                self.top1 -= 3\n",
    "            return temp\n",
    "        else:\n",
    "            print('Stack 1 is empty')\n",
    "    \n",
    "    def pop2(self):\n",
    "        if self.three_stack[self.top2]:\n",
    "            temp = self.three_stack[self.top2]\n",
    "            self.three_stack[self.top2] = None\n",
    "            if self.top2 - 3 >= 1:\n",
    "                self.top2 -= 3\n",
    "            return temp\n",
    "        else:\n",
    "            print('Stack 2 is empty')\n",
    "    \n",
    "    def pop3(self):\n",
    "        if self.three_stack[self.top3]:\n",
    "            temp = self.three_stack[self.top3]\n",
    "            self.three_stack[self.top3] = None\n",
    "            if self.top3 - 3 >= 2:\n",
    "                self.top3 -= 3\n",
    "            return temp\n",
    "        else:\n",
    "            print('Stack 3 is empty')"
   ]
  },
  {
   "cell_type": "code",
   "execution_count": null,
   "metadata": {},
   "outputs": [],
   "source": [
    "threeinone = ThreeInOne(9)\n",
    "threeinone.push1(1)\n",
    "threeinone.push1(2)\n",
    "threeinone.push1(3)\n",
    "threeinone.push2(4)\n",
    "threeinone.push2(5)\n",
    "threeinone.push2(6)\n",
    "threeinone.push3(7)\n",
    "threeinone.push3(8)\n",
    "threeinone.push3(9)\n",
    "threeinone.push1(10)\n",
    "threeinone.push2(11)\n",
    "threeinone.push3(12)"
   ]
  },
  {
   "cell_type": "code",
   "execution_count": null,
   "metadata": {},
   "outputs": [],
   "source": [
    "threeinone.pop1()\n",
    "threeinone.pop2()\n",
    "threeinone.pop3()"
   ]
  },
  {
   "cell_type": "code",
   "execution_count": null,
   "metadata": {},
   "outputs": [],
   "source": [
    "threeinone.two_stack"
   ]
  }
 ],
 "metadata": {
  "kernelspec": {
   "display_name": "Python 3",
   "language": "python",
   "name": "python3"
  },
  "language_info": {
   "codemirror_mode": {
    "name": "ipython",
    "version": 3
   },
   "file_extension": ".py",
   "mimetype": "text/x-python",
   "name": "python",
   "nbconvert_exporter": "python",
   "pygments_lexer": "ipython3",
   "version": "3.6.4"
  }
 },
 "nbformat": 4,
 "nbformat_minor": 2
}
