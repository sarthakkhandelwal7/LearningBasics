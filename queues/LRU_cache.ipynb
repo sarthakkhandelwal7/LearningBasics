{
 "cells": [
  {
   "cell_type": "code",
   "execution_count": null,
   "metadata": {},
   "outputs": [],
   "source": [
    "from queues import Queue\n",
    "class LRUCache:\n",
    "    def __init__(self,size):\n",
    "        self.size = size\n",
    "        self.space = size\n",
    "    def new_data(self,data):\n",
    "        if self.space:\n",
    "            queue.en_queue(data)\n",
    "            self.space-=1\n",
    "        else:\n",
    "            queue.de_queue()\n",
    "            queue.en_queue(data)\n",
    "    def __str__(self):\n",
    "        st = ''\n",
    "        for i in queue.que:\n",
    "            st = st+' '+str(i)\n",
    "        return st\n",
    "queue = Queue()\n",
    "size = int(input('Enter sie of LRU Cache:'))\n",
    "lrucache = LRUCache(size)"
   ]
  }
 ],
 "metadata": {
  "kernelspec": {
   "display_name": "Python 3",
   "language": "python",
   "name": "python3"
  },
  "language_info": {
   "codemirror_mode": {
    "name": "ipython",
    "version": 3
   },
   "file_extension": ".py",
   "mimetype": "text/x-python",
   "name": "python",
   "nbconvert_exporter": "python",
   "pygments_lexer": "ipython3",
   "version": "3.6.7"
  }
 },
 "nbformat": 4,
 "nbformat_minor": 2
}
