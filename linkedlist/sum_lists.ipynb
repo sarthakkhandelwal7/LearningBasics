{
 "cells": [
  {
   "cell_type": "code",
   "execution_count": null,
   "metadata": {},
   "outputs": [],
   "source": [
    "class ListNode(object):\n",
    "    def __init__(self, x):\n",
    "        self.val = x\n",
    "        self.next = None\n",
    "class Solution:\n",
    "    def addTwoNumbers(self, l1: ListNode, l2: ListNode) -> ListNode:\n",
    "        l3_end = l3 = ListNode(0) \n",
    "        carry = 0\n",
    "        while l1 or l2 or carry:\n",
    "            v1 = v2 = 0\n",
    "            if l1:\n",
    "                v1 = l1.val\n",
    "                l1 = l1.next\n",
    "            if l2:\n",
    "                v2 = l2.val\n",
    "                l2 = l2.next\n",
    "            \n",
    "            #divmod returns quotient and remainder\n",
    "            carry, sum = divmod(carry+v1+v2,10)\n",
    "            l3_end.next = ListNode(sum)\n",
    "            l3_end = l3_end.next\n",
    "        return l3.next    "
   ]
  },
  {
   "cell_type": "code",
   "execution_count": null,
   "metadata": {},
   "outputs": [],
   "source": [
    "def prt(head):\n",
    "    #print Linked List\n",
    "        st = ''\n",
    "        curr = head\n",
    "        while curr:\n",
    "            st+=f'{curr.val}-->'\n",
    "            curr = curr.next\n",
    "        return st[:len(st)-3]"
   ]
  },
  {
   "cell_type": "code",
   "execution_count": null,
   "metadata": {},
   "outputs": [],
   "source": [
    "l1 = ListNode(9)\n",
    "l1.next = ListNode(9)\n",
    "l1.next.next = ListNode(9)\n",
    "l2 = ListNode(1)\n",
    "l2.next = ListNode(0)\n",
    "l2.next.next = ListNode(0)"
   ]
  },
  {
   "cell_type": "code",
   "execution_count": null,
   "metadata": {
    "scrolled": true
   },
   "outputs": [],
   "source": [
    "prt(Solution().addTwoNumbers(l1,l2))"
   ]
  }
 ],
 "metadata": {
  "kernelspec": {
   "display_name": "Python 3",
   "language": "python",
   "name": "python3"
  },
  "language_info": {
   "codemirror_mode": {
    "name": "ipython",
    "version": 3
   },
   "file_extension": ".py",
   "mimetype": "text/x-python",
   "name": "python",
   "nbconvert_exporter": "python",
   "pygments_lexer": "ipython3",
   "version": "3.6.4"
  }
 },
 "nbformat": 4,
 "nbformat_minor": 2
}
