{
 "cells": [
  {
   "cell_type": "code",
   "execution_count": null,
   "metadata": {},
   "outputs": [],
   "source": [
    "from collections import defaultdict\n",
    "class Node:\n",
    "    def __init__(self,data):\n",
    "        self.data = data\n",
    "        self.next = None\n",
    "\n",
    "def remove_duplicates(head):\n",
    "    buffer = defaultdict(int)\n",
    "    temp = head\n",
    "    \n",
    "    while temp:\n",
    "        buffer[temp.data] += 1\n",
    "        temp = temp.next\n",
    "    temp = head\n",
    "    previous = None\n",
    "    while temp:\n",
    "        if buffer[temp.data] > 1:\n",
    "            if temp.data == head.data:\n",
    "                buffer[temp.data] -= 1\n",
    "                head = temp.next\n",
    "                \n",
    "            else:\n",
    "                buffer[temp.data] -= 1\n",
    "                previous.next = temp.next\n",
    "                temp = temp.next\n",
    "        else:\n",
    "            previous = temp\n",
    "            temp = temp.next\n",
    "    return head"
   ]
  },
  {
   "cell_type": "code",
   "execution_count": null,
   "metadata": {},
   "outputs": [],
   "source": [
    "def print_ll(temp):\n",
    "    st = ''\n",
    "    while temp:\n",
    "        st += f\"{temp.data}-->\"\n",
    "        temp = temp.next\n",
    "    print(st[:len(st)-3])"
   ]
  },
  {
   "cell_type": "code",
   "execution_count": null,
   "metadata": {},
   "outputs": [],
   "source": [
    "head = Node(1)\n",
    "head.next = Node(1)\n",
    "head.next.next = Node(2)\n",
    "head.next.next.next = Node(3)\n",
    "head.next.next.next.next = Node(3)\n",
    "head.next.next.next.next.next = Node(2)\n",
    "print_ll(head)\n",
    "print()\n",
    "head = remove_duplicates(head)\n",
    "print_ll(head)"
   ]
  }
 ],
 "metadata": {
  "kernelspec": {
   "display_name": "Python 3",
   "language": "python",
   "name": "python3"
  },
  "language_info": {
   "codemirror_mode": {
    "name": "ipython",
    "version": 3
   },
   "file_extension": ".py",
   "mimetype": "text/x-python",
   "name": "python",
   "nbconvert_exporter": "python",
   "pygments_lexer": "ipython3",
   "version": "3.7.3"
  }
 },
 "nbformat": 4,
 "nbformat_minor": 2
}
