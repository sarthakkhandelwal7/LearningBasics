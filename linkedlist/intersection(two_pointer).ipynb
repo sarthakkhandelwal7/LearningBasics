{
 "cells": [
  {
   "cell_type": "code",
   "execution_count": null,
   "metadata": {},
   "outputs": [],
   "source": [
    "class ListNode:\n",
    "    def __init__(self, x):\n",
    "        self.val = x\n",
    "        self.next = None\n",
    "\n",
    "class Solution:\n",
    "    def getIntersectionNode(self, headA: ListNode, headB: ListNode) -> ListNode:\n",
    "        pointerA = headA\n",
    "        pointerB = headB\n",
    "        \n",
    "        while pointerA != pointerB:\n",
    "            pointerA = headB if pointerA is None else pointerA.next\n",
    "            pointerB = headA if pointerB is None else pointerB.next\n",
    "        return pointerA"
   ]
  },
  {
   "cell_type": "code",
   "execution_count": null,
   "metadata": {},
   "outputs": [],
   "source": [
    "l1 = ListNode(9)\n",
    "l1.next = ListNode(3)\n",
    "l1.next.next = ListNode(2)\n",
    "l2 = ListNode(1)\n",
    "l2.next = ListNode(0)\n",
    "l2.next.next = l1.next\n"
   ]
  },
  {
   "cell_type": "code",
   "execution_count": null,
   "metadata": {},
   "outputs": [],
   "source": [
    "Solution().getIntersectionNode(l1,l2).val"
   ]
  }
 ],
 "metadata": {
  "kernelspec": {
   "display_name": "Python 3",
   "language": "python",
   "name": "python3"
  },
  "language_info": {
   "codemirror_mode": {
    "name": "ipython",
    "version": 3
   },
   "file_extension": ".py",
   "mimetype": "text/x-python",
   "name": "python",
   "nbconvert_exporter": "python",
   "pygments_lexer": "ipython3",
   "version": "3.6.4"
  }
 },
 "nbformat": 4,
 "nbformat_minor": 2
}
