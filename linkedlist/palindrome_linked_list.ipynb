{
 "cells": [
  {
   "cell_type": "code",
   "execution_count": null,
   "metadata": {},
   "outputs": [],
   "source": [
    "#Definition for singly-linked list.\n",
    "class ListNode:\n",
    "    def __init__(self, x):\n",
    "        self.val = x\n",
    "        self.next = None\n",
    "\n",
    "class Solution:\n",
    "    def isPalindrome(self, head: ListNode) -> bool:\n",
    "        slow = fast = head\n",
    "        \n",
    "        #finding first element of second half of linked list\n",
    "        while fast and fast.next:\n",
    "            fast = fast.next.next\n",
    "            slow = slow.next\n",
    "        \n",
    "        #reverse second half\n",
    "        previous = None\n",
    "        curr = slow\n",
    "        while curr:\n",
    "            next = curr.next\n",
    "            curr.next = previous\n",
    "            previous = curr\n",
    "            curr = next\n",
    "        first = head\n",
    "        second = previous\n",
    "        \n",
    "        \n",
    "        #checking for palindrome\n",
    "        \n",
    "        while first and second:\n",
    "            if first.val != second.val:\n",
    "                return False\n",
    "            first = first.next\n",
    "            second = second.next\n",
    "        return True"
   ]
  },
  {
   "cell_type": "code",
   "execution_count": null,
   "metadata": {},
   "outputs": [],
   "source": [
    "ll = ListNode(1)\n",
    "ll.next = ListNode(2)\n",
    "ll.next.next = ListNode(3)\n",
    "ll.next.next.next = ListNode(4)\n",
    "ll.next.next.next.next = ListNode(3)\n",
    "ll.next.next.next.next.next = ListNode(3)\n",
    "ll.next.next.next.next.next.next = ListNode(0)"
   ]
  },
  {
   "cell_type": "code",
   "execution_count": null,
   "metadata": {},
   "outputs": [],
   "source": [
    "Solution().isPalindrome(ll)"
   ]
  }
 ],
 "metadata": {
  "kernelspec": {
   "display_name": "Python 3",
   "language": "python",
   "name": "python3"
  },
  "language_info": {
   "codemirror_mode": {
    "name": "ipython",
    "version": 3
   },
   "file_extension": ".py",
   "mimetype": "text/x-python",
   "name": "python",
   "nbconvert_exporter": "python",
   "pygments_lexer": "ipython3",
   "version": "3.6.4"
  }
 },
 "nbformat": 4,
 "nbformat_minor": 2
}
