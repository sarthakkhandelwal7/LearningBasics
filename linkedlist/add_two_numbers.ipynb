{
 "cells": [
  {
   "cell_type": "code",
   "execution_count": 3,
   "metadata": {},
   "outputs": [],
   "source": [
    "class ListNode(object):\n",
    "    def __init__(self, x):\n",
    "        self.val = x\n",
    "        self.next = None\n",
    "\n",
    "class Solution(object):\n",
    "    def addTwoNumbers(self, l1, l2):\n",
    "        l1_node = l1\n",
    "        l2_node = l2\n",
    "        l3 = ListNode(0)\n",
    "        l3_last = l3\n",
    "        carry = 0\n",
    "        i = 0\n",
    "        l1_val = l1.val\n",
    "        l2_val = l2.val\n",
    "        while l1_node or l2_node:\n",
    "            i += 1\n",
    "            print(f\"i: {i}, l1_val: {l1_val}, l2_val: {l2_val}\")\n",
    "            sum1,carry = self.sum_of_node(l1_val,l2_val,carry)\n",
    "            \n",
    "            l3_last.next = ListNode(sum1)\n",
    "            l3_last = l3_last.next\n",
    "            \n",
    "            if l1_node:\n",
    "                l1_node = l1_node.next\n",
    "                if l1_node:\n",
    "                    l1_val = l1_node.val\n",
    "                else:\n",
    "                    l1_val = 0 \n",
    "            \n",
    "            if l2_node:\n",
    "                l2_node = l2_node.next\n",
    "                if l2_node:\n",
    "                    l2_val = l2_node.val\n",
    "                else:\n",
    "                    l2_val = 0\n",
    "            \n",
    "        l3 = l3.next\n",
    "        if i == 1 and carry:\n",
    "            l3.next = ListNode(carry)\n",
    "        return l3\n",
    "    \n",
    "    def sum_of_node(self,n1,n2,carry = 0):\n",
    "        sum1 = n1 + n2 + carry\n",
    "        if sum1>9:\n",
    "            carry = 1\n",
    "            sum1 -= 10\n",
    "            return (sum1,carry)\n",
    "        else:\n",
    "            return (sum1,0)"
   ]
  },
  {
   "cell_type": "code",
   "execution_count": null,
   "metadata": {},
   "outputs": [],
   "source": []
  }
 ],
 "metadata": {
  "kernelspec": {
   "display_name": "Python 3",
   "language": "python",
   "name": "python3"
  },
  "language_info": {
   "codemirror_mode": {
    "name": "ipython",
    "version": 3
   },
   "file_extension": ".py",
   "mimetype": "text/x-python",
   "name": "python",
   "nbconvert_exporter": "python",
   "pygments_lexer": "ipython3",
   "version": "3.7.3"
  }
 },
 "nbformat": 4,
 "nbformat_minor": 2
}
