{
 "cells": [
  {
   "cell_type": "code",
   "execution_count": null,
   "metadata": {},
   "outputs": [],
   "source": [
    "from linked_list import LinkedList\n",
    "class QueueFromLinkedList:\n",
    "    def __init__(self):\n",
    "        self.que = None\n",
    "    def insert(self,data):\n",
    "        ll.insert_node('h',data)\n",
    "        self.que = ll.head_node\n",
    "    def pop(self):\n",
    "        if ll.find_length() == 0:\n",
    "            print('Queue is empty')\n",
    "        else:\n",
    "            ll.delete_node(ll.find_length())\n",
    "    def __str__(self):\n",
    "        st = 'This is your queue\\n'\n",
    "        curr = ll.head_node\n",
    "        while curr !='Null':\n",
    "            st+=f'{curr.data}-'\n",
    "            curr = curr.next\n",
    "        return st[:len(st)-1]\n",
    "ll = LinkedList(0)"
   ]
  }
 ],
 "metadata": {
  "kernelspec": {
   "display_name": "Python 3",
   "language": "python",
   "name": "python3"
  },
  "language_info": {
   "codemirror_mode": {
    "name": "ipython",
    "version": 3
   },
   "file_extension": ".py",
   "mimetype": "text/x-python",
   "name": "python",
   "nbconvert_exporter": "python",
   "pygments_lexer": "ipython3",
   "version": "3.7.3"
  }
 },
 "nbformat": 4,
 "nbformat_minor": 2
}
