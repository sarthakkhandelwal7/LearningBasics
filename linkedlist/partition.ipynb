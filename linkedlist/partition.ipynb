{
 "cells": [
  {
   "cell_type": "code",
   "execution_count": null,
   "metadata": {},
   "outputs": [],
   "source": [
    "class Node(object):\n",
    "    def __init__(self, x):\n",
    "        self.val = x\n",
    "        self.next = None\n",
    "\n",
    "class Solution(object):\n",
    "    def partition(self, head, x):\n",
    "        before_head = before = Node(None)\n",
    "        after_head = after = Node(None)\n",
    "        curr = head\n",
    "        while curr:\n",
    "            if curr.val>=x:\n",
    "                after.next = curr\n",
    "                after = after.next\n",
    "            else:\n",
    "                before.next = curr\n",
    "                before = before.next\n",
    "            curr = curr.next\n",
    "        after.next = None\n",
    "        before.next = after_head.next\n",
    "        \n",
    "        return before_head.next"
   ]
  },
  {
   "cell_type": "code",
   "execution_count": null,
   "metadata": {},
   "outputs": [],
   "source": [
    "head = Node(1)\n",
    "head.next = Node(4)\n",
    "head.next.next = Node(3)\n",
    "head.next.next.next = Node(2)\n",
    "head.next.next.next.next = Node(5)\n",
    "head.next.next.next.next.next = Node(2)\n",
    "#head.next.next.next.next.next.next = Node(5)\n",
    "def print_ll(temp):\n",
    "    st = ''\n",
    "    while temp:\n",
    "        #st += f\"{temp.val}-->\"\n",
    "        print(temp.val)\n",
    "        temp = temp.next\n",
    "    #print(st[:len(st)-3])"
   ]
  },
  {
   "cell_type": "code",
   "execution_count": null,
   "metadata": {},
   "outputs": [],
   "source": [
    "c= Solution().partition(head,3)"
   ]
  },
  {
   "cell_type": "code",
   "execution_count": null,
   "metadata": {},
   "outputs": [],
   "source": [
    "print_ll(c)"
   ]
  }
 ],
 "metadata": {
  "kernelspec": {
   "display_name": "Python 3",
   "language": "python",
   "name": "python3"
  },
  "language_info": {
   "codemirror_mode": {
    "name": "ipython",
    "version": 3
   },
   "file_extension": ".py",
   "mimetype": "text/x-python",
   "name": "python",
   "nbconvert_exporter": "python",
   "pygments_lexer": "ipython3",
   "version": "3.7.3"
  }
 },
 "nbformat": 4,
 "nbformat_minor": 2
}
