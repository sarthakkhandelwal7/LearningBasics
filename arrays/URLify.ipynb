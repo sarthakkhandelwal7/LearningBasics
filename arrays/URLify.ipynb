{
 "cells": [
  {
   "cell_type": "code",
   "execution_count": null,
   "metadata": {},
   "outputs": [],
   "source": [
    "def replace(st,str_size,actual_size,to_insert):\n",
    "    \n",
    "    curr = str_size-1\n",
    "    last = actual_size-1\n",
    "    count = st[:str_size].count(' ')\n",
    "    \n",
    "    while count:\n",
    "        if st[curr] == ' ':\n",
    "            temp = to_insert[::-1]\n",
    "            for i in temp:\n",
    "                st = st[:last] + i + st[last+1:]\n",
    "                last -= 1\n",
    "            curr -= 1\n",
    "            count -= 1\n",
    "        else:\n",
    "            st = st[:last] + st[curr] + st[last+1:]\n",
    "            last -= 1\n",
    "            curr -= 1\n",
    "    return st  "
   ]
  },
  {
   "cell_type": "code",
   "execution_count": null,
   "metadata": {},
   "outputs": [],
   "source": [
    "s = \"Mr John Smith    \"\n",
    "replace_with = '%20'\n",
    "replace(s,13,len(s),replace_with)"
   ]
  }
 ],
 "metadata": {
  "kernelspec": {
   "display_name": "Python 3",
   "language": "python",
   "name": "python3"
  },
  "language_info": {
   "codemirror_mode": {
    "name": "ipython",
    "version": 3
   },
   "file_extension": ".py",
   "mimetype": "text/x-python",
   "name": "python",
   "nbconvert_exporter": "python",
   "pygments_lexer": "ipython3",
   "version": "3.7.3"
  }
 },
 "nbformat": 4,
 "nbformat_minor": 2
}
