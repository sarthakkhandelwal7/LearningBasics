{
 "cells": [
  {
   "cell_type": "code",
   "execution_count": null,
   "metadata": {},
   "outputs": [],
   "source": [
    "def swap(arr,i,j):\n",
    "    c = arr[i]\n",
    "    arr[i] = arr[j]\n",
    "    arr[j] = c\n",
    "def partition(arr,start,end):\n",
    "    \"\"\"\n",
    "        pivot: Hold the index of pivot value\n",
    "        j:     Hold starting index\n",
    "    \"\"\"\n",
    "    j = start\n",
    "    \n",
    "    #prevent element from swaping if it is left of pivot value\n",
    "    while(arr[j]<arr[end-1]):\n",
    "        j+=1\n",
    "        \n",
    "    swap(arr,j,end-1)\n",
    "    pivot_index = j\n",
    "    for i in range(j+1,end):\n",
    "        if arr[i]<=arr[pivot_index]:\n",
    "            if i != pivot_index+1:\n",
    "                swap(arr,i,pivot_index+1)\n",
    "            swap(arr,pivot_index,pivot_index+1)\n",
    "            pivot_index+=1\n",
    "    return pivot_index\n",
    "\n",
    "def quick_sort(arr,start,end):\n",
    "    if(start<end):\n",
    "        pivot_index = partition(arr,start,end)\n",
    "        quick_sort(arr,start,pivot_index)\n",
    "        quick_sort(arr,pivot_index+1,end)\n",
    "def print_array(arr):\n",
    "    for i in arr:\n",
    "        print(f\"{i}\",end = \" \")\n",
    "    print()"
   ]
  },
  {
   "cell_type": "code",
   "execution_count": null,
   "metadata": {},
   "outputs": [],
   "source": [
    "arr = [5,1,3,4,7,2,6,36,26,76,54]\n",
    "print_array(arr)\n",
    "quick_sort(arr,0,len(arr))\n",
    "print_array(arr)"
   ]
  }
 ],
 "metadata": {
  "kernelspec": {
   "display_name": "Python 3",
   "language": "python",
   "name": "python3"
  },
  "language_info": {
   "codemirror_mode": {
    "name": "ipython",
    "version": 3
   },
   "file_extension": ".py",
   "mimetype": "text/x-python",
   "name": "python",
   "nbconvert_exporter": "python",
   "pygments_lexer": "ipython3",
   "version": "3.7.3"
  }
 },
 "nbformat": 4,
 "nbformat_minor": 2
}
