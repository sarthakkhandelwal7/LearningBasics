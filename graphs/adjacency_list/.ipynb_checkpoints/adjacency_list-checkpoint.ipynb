{
 "cells": [
  {
   "cell_type": "code",
   "execution_count": null,
   "metadata": {},
   "outputs": [],
   "source": [
    "from linked_list import LinkedList\n",
    "class AdjacencyListGraphs:\n",
    "    def __init__(self,vertices):\n",
    "        self.vertices = vertices\n",
    "        self.graph = [None]*vertices\n",
    "    \n",
    "    def add_edge(self,v1,v2,i = 0):\n",
    "        if i == 2:\n",
    "            return\n",
    "        \n",
    "        # Connect second vertex to first\n",
    "        elif self.graph[v1]:\n",
    "            self.graph[v1].insert_node('e',v2)\n",
    "            i+=1\n",
    "            self.add_edge(v2,v1,i)\n",
    "        \n",
    "        # Connect first vertex to second\n",
    "        else:            \n",
    "            linkedlist = LinkedList(0)\n",
    "            linkedlist.insert_node('h',v2)\n",
    "            self.graph[v1] = linkedlist\n",
    "            i+=1\n",
    "            self.add_edge(v2,v1,i)\n",
    "    \n",
    "    def print_graph(self):\n",
    "        j = 0\n",
    "        for i in self.graph:\n",
    "            print(f'Adjacency list of vertex {j}\\nhead-->{i}\\n')\n",
    "            j+=1"
   ]
  },
  {
   "cell_type": "code",
   "execution_count": null,
   "metadata": {},
   "outputs": [],
   "source": [
    "adjacencylistgraphs = AdjacencyListGraphs(5) \n",
    "\n",
    "adjacencylistgraphs.add_edge(0, 1) \n",
    "adjacencylistgraphs.add_edge(0, 4) \n",
    "adjacencylistgraphs.add_edge(1, 2) \n",
    "adjacencylistgraphs.add_edge(1, 3) \n",
    "adjacencylistgraphs.add_edge(1, 4) \n",
    "adjacencylistgraphs.add_edge(2, 3) \n",
    "adjacencylistgraphs.add_edge(3, 4) \n",
    "adjacencylistgraphs.print_graph()"
   ]
  }
 ],
 "metadata": {
  "kernelspec": {
   "display_name": "Python 3",
   "language": "python",
   "name": "python3"
  },
  "language_info": {
   "codemirror_mode": {
    "name": "ipython",
    "version": 3
   },
   "file_extension": ".py",
   "mimetype": "text/x-python",
   "name": "python",
   "nbconvert_exporter": "python",
   "pygments_lexer": "ipython3",
   "version": "3.7.1"
  }
 },
 "nbformat": 4,
 "nbformat_minor": 2
}
