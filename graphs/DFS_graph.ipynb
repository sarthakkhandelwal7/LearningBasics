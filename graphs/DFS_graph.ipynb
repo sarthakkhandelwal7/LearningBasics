{
 "cells": [
  {
   "cell_type": "code",
   "execution_count": null,
   "metadata": {},
   "outputs": [],
   "source": [
    "from collections import defaultdict\n",
    "class Graphs:\n",
    "    def __init__(self):\n",
    "        self.graph = defaultdict(list)\n",
    "        \n",
    "    def add_edge(self,v1,v2):\n",
    "        self.graph[v1].append(v2)\n",
    "        \n",
    "    def dfs(self,v,visited = 0):\n",
    "        if visited == 0:\n",
    "            visited = [False]*len(self.graph)\n",
    "        \"\"\"\n",
    "           visited: To check whether the vertex is visited or not\n",
    "        \"\"\"\n",
    "        visited[v] = True\n",
    "        print(v, end = \" \")    \n",
    "        \n",
    "        for i in self.graph[v]:\n",
    "            if visited[i] == False:                \n",
    "                visited = self.dfs(i,visited)\n",
    "        return visited"
   ]
  },
  {
   "cell_type": "code",
   "execution_count": null,
   "metadata": {},
   "outputs": [],
   "source": [
    "graph = Graphs()\n",
    "graph.add_edge(0, 1) \n",
    "graph.add_edge(0, 2) \n",
    "graph.add_edge(1, 2) \n",
    "graph.add_edge(2, 0) \n",
    "graph.add_edge(2, 3) \n",
    "graph.add_edge(3, 3) \n",
    "graph.add_edge(1, 4)\n",
    "graph.add_edge(1, 9)\n",
    "graph.add_edge(9, 9)\n",
    "graph.add_edge(4, 5)\n",
    "graph.add_edge(5, 5)\n",
    "graph.add_edge(4, 6)\n",
    "graph.add_edge(6, 7)\n",
    "graph.add_edge(7, 7)\n",
    "graph.add_edge(4, 8)\n",
    "graph.add_edge(8, 5)\n",
    "graph.dfs(2)"
   ]
  }
 ],
 "metadata": {
  "kernelspec": {
   "display_name": "Python 3",
   "language": "python",
   "name": "python3"
  },
  "language_info": {
   "codemirror_mode": {
    "name": "ipython",
    "version": 3
   },
   "file_extension": ".py",
   "mimetype": "text/x-python",
   "name": "python",
   "nbconvert_exporter": "python",
   "pygments_lexer": "ipython3",
   "version": "3.7.1"
  }
 },
 "nbformat": 4,
 "nbformat_minor": 2
}
