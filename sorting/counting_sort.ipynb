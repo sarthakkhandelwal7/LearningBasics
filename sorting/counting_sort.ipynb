{
 "cells": [
  {
   "cell_type": "code",
   "execution_count": null,
   "metadata": {},
   "outputs": [],
   "source": [
    "def counting_sort(arr):\n",
    "    largest = 0\n",
    "    temp = 0\n",
    "    i = 0\n",
    "    sorted_array = [0]*len(arr)\n",
    "    \n",
    "    #for generating counting array\n",
    "    for i in arr:\n",
    "        if i>largest:\n",
    "            largest = i\n",
    "    number_count = [0]*(largest+1)\n",
    "    \n",
    "    #for storing count of each number in counting array\n",
    "    for i in arr:\n",
    "        number_count[i]+=1\n",
    "    \n",
    "    \n",
    "    i = 0\n",
    "    while(i<len(number_count)-1):\n",
    "        number_count[i+1]+=number_count[i]\n",
    "        i+=1\n",
    "    \n",
    "    #shifting array to right\n",
    "    i = len(number_count)-1\n",
    "    while i>=0:\n",
    "        number_count[i] = number_count[i-1]\n",
    "        i-=1\n",
    "    number_count[0] = 0\n",
    "    \n",
    "    #inserting elements back to array in sorted order\n",
    "    for i in arr:\n",
    "        sorted_array[number_count[i]] = i\n",
    "        number_count[i]+=1\n",
    "    \n",
    "    return sorted_array"
   ]
  },
  {
   "cell_type": "code",
   "execution_count": null,
   "metadata": {},
   "outputs": [],
   "source": [
    "a = [1,3,3,2,0,4]\n",
    "counting_sort(a)"
   ]
  }
 ],
 "metadata": {
  "kernelspec": {
   "display_name": "Python 3",
   "language": "python",
   "name": "python3"
  },
  "language_info": {
   "codemirror_mode": {
    "name": "ipython",
    "version": 3
   },
   "file_extension": ".py",
   "mimetype": "text/x-python",
   "name": "python",
   "nbconvert_exporter": "python",
   "pygments_lexer": "ipython3",
   "version": "3.7.3"
  }
 },
 "nbformat": 4,
 "nbformat_minor": 2
}
