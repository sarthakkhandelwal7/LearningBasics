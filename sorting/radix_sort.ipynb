{
 "cells": [
  {
   "cell_type": "code",
   "execution_count": null,
   "metadata": {},
   "outputs": [],
   "source": [
    "def get_max(array):\n",
    "    max_no = max(array)\n",
    "    return len(str(max_no))\n",
    "\n",
    "def count_sort(exp,array):\n",
    "    \"\"\"\n",
    "        count: Stores count of base digits\n",
    "        index: Stores index of number in count\n",
    "    \"\"\"\n",
    "    count = [0]*10\n",
    "    sorted_array = [0]*len(array)\n",
    "    index = 0\n",
    "    \n",
    "    #Stores count of base digit\n",
    "    for j in array:\n",
    "        index = int(j/(pow(10,exp)))%10\n",
    "        count[index]+=1\n",
    "    \n",
    "    for j in range(9):\n",
    "        count[j+1] += count[j]\n",
    "    \n",
    "    \"\"\"\n",
    "        for loop:\n",
    "            Changes count[i] so that count[i] stores correct \n",
    "            index of each element in sorted_array\n",
    "        ~j == -j-1\n",
    "    \"\"\"\n",
    "    for j in range(9):\n",
    "        count[~j] = count[~j-1]\n",
    "    count[0] = 0\n",
    "    \n",
    "    #Build the sorted array\n",
    "    for j in array:\n",
    "        index = int(j/(pow(10,exp)))%10\n",
    "        sorted_array[count[index]] = j\n",
    "        count[index]+=1\n",
    "    return sorted_array\n",
    "\n",
    "def radix_sort(array):\n",
    "    size = get_max(array)\n",
    "    \n",
    "    for i in range(size):\n",
    "        array = count_sort(i,array)\n",
    "    return array\n"
   ]
  },
  {
   "cell_type": "code",
   "execution_count": null,
   "metadata": {},
   "outputs": [],
   "source": [
    "radix_sort([ 170, 45, 75, 90, 802, 24, 2, 66] )"
   ]
  }
 ],
 "metadata": {
  "kernelspec": {
   "display_name": "Python 3",
   "language": "python",
   "name": "python3"
  },
  "language_info": {
   "codemirror_mode": {
    "name": "ipython",
    "version": 3
   },
   "file_extension": ".py",
   "mimetype": "text/x-python",
   "name": "python",
   "nbconvert_exporter": "python",
   "pygments_lexer": "ipython3",
   "version": "3.7.3"
  }
 },
 "nbformat": 4,
 "nbformat_minor": 2
}
