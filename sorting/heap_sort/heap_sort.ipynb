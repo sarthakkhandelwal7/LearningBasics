{
 "cells": [
  {
   "cell_type": "code",
   "execution_count": null,
   "metadata": {},
   "outputs": [],
   "source": [
    "from max_heap import MaxHeap\n",
    "def generate_max_heap(arr,last):\n",
    "    index = 0\n",
    "    while(maxheap.left(index,'n') != 'n' and 2*index+1<last and 2*index+2<last):\n",
    "            try:\n",
    "                                \n",
    "                if maxheap.left(index)>maxheap.right(index,'n') and maxheap.left(index,'n')>maxheap.heap[index]:\n",
    "                    s = maxheap.heap[index]\n",
    "                    maxheap.heap[index] = maxheap.heap[2*index+1]\n",
    "                    maxheap.heap[2*index+1] = s\n",
    "                    index = 2*index+1\n",
    "\n",
    "                    \n",
    "                elif maxheap.right(index,'n')>maxheap.heap[index]:\n",
    "                    s = maxheap.heap[index]\n",
    "                    maxheap.heap[index] = maxheap.heap[2*index+2]\n",
    "                    maxheap.heap[2*index+2] = s\n",
    "                    index = 2*index+2\n",
    "                else:\n",
    "                    break\n",
    "\n",
    "            except:\n",
    "                if maxheap.left(index,'n')>maxheap.heap[index]:\n",
    "                    s = maxheap.heap[index]\n",
    "                    maxheap.heap[index] = maxheap.heap[2*index+1]\n",
    "                    maxheap.heap[2*index+1] = s\n",
    "                break\n",
    "def sort(arr):\n",
    "    \"\"\"\n",
    "        last: Hold the last index of part of unsorted heap\n",
    "    \"\"\"\n",
    "    last = len(arr)-1\n",
    "    while last > 1:\n",
    "        arr[0],arr[last] = arr[last],arr[0]\n",
    "        last-=1\n",
    "        generate_max_heap(arr,last)\n",
    "maxheap = MaxHeap()"
   ]
  },
  {
   "cell_type": "code",
   "execution_count": null,
   "metadata": {},
   "outputs": [],
   "source": [
    "maxheap.insert(5)\n",
    "maxheap.insert(65)\n",
    "maxheap.insert(2)\n",
    "maxheap.insert(67)\n",
    "maxheap.insert(3)\n",
    "maxheap.insert(10)\n",
    "maxheap.insert(7)\n",
    "\n",
    "sort(maxheap.heap)"
   ]
  }
 ],
 "metadata": {
  "kernelspec": {
   "display_name": "Python 3",
   "language": "python",
   "name": "python3"
  },
  "language_info": {
   "codemirror_mode": {
    "name": "ipython",
    "version": 3
   },
   "file_extension": ".py",
   "mimetype": "text/x-python",
   "name": "python",
   "nbconvert_exporter": "python",
   "pygments_lexer": "ipython3",
   "version": "3.7.3"
  }
 },
 "nbformat": 4,
 "nbformat_minor": 2
}
