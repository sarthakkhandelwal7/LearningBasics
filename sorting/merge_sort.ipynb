{
 "cells": [
  {
   "cell_type": "code",
   "execution_count": null,
   "metadata": {},
   "outputs": [],
   "source": [
    "def merge(arr,l,mid,r):\n",
    "    left = list()\n",
    "    right = list()\n",
    "    for i in arr[l:mid+1]:\n",
    "        left.append(i)\n",
    "    for j in arr[mid+1:r+1]:\n",
    "        right.append(j)\n",
    "    i = 0\n",
    "    j = 0\n",
    "    k = l\n",
    "    while(i<len(left) and j<len(right)):\n",
    "        if left[i]<right[j]:\n",
    "            arr[k] = left[i]\n",
    "            i+=1\n",
    "        else:\n",
    "            arr[k] = right[j]\n",
    "            j+=1\n",
    "        k+=1\n",
    "    while i<len(left):\n",
    "        arr[k] = left[i]\n",
    "        i+=1\n",
    "        k+=1\n",
    "    while j<len(right):\n",
    "        arr[k] = right[j]\n",
    "        j+=1\n",
    "        k+=1\n",
    "def sort(array,l,r):\n",
    "    if l == r:\n",
    "        return\n",
    "    mid = int((l+r)/2)\n",
    "    sort(array,l,mid)\n",
    "    sort(array,mid+1,r)\n",
    "    merge(array,l,mid,r)\n",
    "array = [8,7,6,5,3,2,1]\n",
    "sort(array,0,len(array)-1)\n",
    "print(array)"
   ]
  }
 ],
 "metadata": {
  "kernelspec": {
   "display_name": "Python 3",
   "language": "python",
   "name": "python3"
  },
  "language_info": {
   "codemirror_mode": {
    "name": "ipython",
    "version": 3
   },
   "file_extension": ".py",
   "mimetype": "text/x-python",
   "name": "python",
   "nbconvert_exporter": "python",
   "pygments_lexer": "ipython3",
   "version": "3.7.3"
  }
 },
 "nbformat": 4,
 "nbformat_minor": 2
}
